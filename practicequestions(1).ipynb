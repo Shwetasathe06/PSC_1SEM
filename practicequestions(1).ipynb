{
 "cells": [
  {
   "cell_type": "code",
   "execution_count": 4,
   "id": "cb34f4f3-32db-434d-a6ec-f537f927e950",
   "metadata": {},
   "outputs": [],
   "source": [
    "# 01 Try to extract data from index 1 to index 300 with a jump of 3\n"
   ]
  },
  {
   "cell_type": "code",
   "execution_count": 5,
   "id": "25c31ee0-0191-4632-b5ad-072a89076181",
   "metadata": {},
   "outputs": [],
   "source": [
    "s = \"this is My First Python programming class and i am learNING python string and its function\""
   ]
  },
  {
   "cell_type": "code",
   "execution_count": 6,
   "id": "509b9ceb-b04f-4a86-a040-dfe627734f9b",
   "metadata": {},
   "outputs": [
    {
     "data": {
      "text/plain": [
       "'h   r tnrrmglsnimeNGyosi dtfco'"
      ]
     },
     "execution_count": 6,
     "metadata": {},
     "output_type": "execute_result"
    }
   ],
   "source": [
    "s[1:300:3]"
   ]
  },
  {
   "cell_type": "code",
   "execution_count": 7,
   "id": "fd7abcfb-dfc7-4be3-bfa6-b3c765abd3c2",
   "metadata": {},
   "outputs": [],
   "source": [
    "# 02 Try to reverse a string without using reverse function"
   ]
  },
  {
   "cell_type": "code",
   "execution_count": 8,
   "id": "6aa4ccb9-8102-4556-844a-301c7606ed09",
   "metadata": {},
   "outputs": [
    {
     "data": {
      "text/plain": [
       "'noitcnuf sti dna gnirts nohtyp GNINrael ma i dna ssalc gnimmargorp nohtyP tsriF yM si siht'"
      ]
     },
     "execution_count": 8,
     "metadata": {},
     "output_type": "execute_result"
    }
   ],
   "source": [
    "s[::-1]"
   ]
  },
  {
   "cell_type": "code",
   "execution_count": 9,
   "id": "532a34e0-d18c-4b0f-8848-3c0a60c19bb3",
   "metadata": {},
   "outputs": [
    {
     "data": {
      "text/plain": [
       "'noitcnuf sti dna gnirts nohtyp GNINrael ma i dna ssalc gnimmargorp nohtyP tsriF yM si siht'"
      ]
     },
     "execution_count": 9,
     "metadata": {},
     "output_type": "execute_result"
    }
   ],
   "source": [
    "'noitcnuf sti dna gnirts nohtyp GNINrael ma i dna ssalc gnimmargorp nohtyP tsriF yM si siht'"
   ]
  },
  {
   "cell_type": "code",
   "execution_count": 10,
   "id": "e3fcae1b-5ee8-48e4-8e3a-7c80c6ae4b6a",
   "metadata": {},
   "outputs": [],
   "source": [
    "# 03 Try to split a string after conversion of entire string in uppercase"
   ]
  },
  {
   "cell_type": "code",
   "execution_count": 11,
   "id": "c37e4095-2f19-4561-a4b4-7d69ee2000ba",
   "metadata": {},
   "outputs": [
    {
     "data": {
      "text/plain": [
       "['THIS',\n",
       " 'IS',\n",
       " 'MY',\n",
       " 'FIRST',\n",
       " 'PYTHON',\n",
       " 'PROGRAMMING',\n",
       " 'CLASS',\n",
       " 'AND',\n",
       " 'I',\n",
       " 'AM',\n",
       " 'LEARNING',\n",
       " 'PYTHON',\n",
       " 'STRING',\n",
       " 'AND',\n",
       " 'ITS',\n",
       " 'FUNCTION']"
      ]
     },
     "execution_count": 11,
     "metadata": {},
     "output_type": "execute_result"
    }
   ],
   "source": [
    "s1 = s.upper()\n",
    "s1.split()"
   ]
  },
  {
   "cell_type": "code",
   "execution_count": 12,
   "id": "05505e9a-ce39-4647-b66a-ea5ef1c978c5",
   "metadata": {},
   "outputs": [],
   "source": [
    "# 04 Try to convert the whole string into lower case"
   ]
  },
  {
   "cell_type": "code",
   "execution_count": 13,
   "id": "394b6a39-e634-4fd4-b6a0-a9cd2ed13c2a",
   "metadata": {},
   "outputs": [
    {
     "data": {
      "text/plain": [
       "'this is my first python programming class and i am learning python string and its function'"
      ]
     },
     "execution_count": 13,
     "metadata": {},
     "output_type": "execute_result"
    }
   ],
   "source": [
    "s.lower()"
   ]
  },
  {
   "cell_type": "code",
   "execution_count": 14,
   "id": "f251f154-f41a-4a15-8559-ba979f37c3e6",
   "metadata": {},
   "outputs": [],
   "source": [
    "# 05 the Try to capitalize the whole string"
   ]
  },
  {
   "cell_type": "code",
   "execution_count": 15,
   "id": "660fee44-c62a-434c-bb77-6b943cd0038f",
   "metadata": {},
   "outputs": [
    {
     "data": {
      "text/plain": [
       "'This is my first python programming class and i am learning python string and its function'"
      ]
     },
     "execution_count": 15,
     "metadata": {},
     "output_type": "execute_result"
    }
   ],
   "source": [
    "s.capitalize()"
   ]
  },
  {
   "cell_type": "code",
   "execution_count": 16,
   "id": "59958f27-e57b-4837-90cd-5c76ca8e6207",
   "metadata": {},
   "outputs": [],
   "source": [
    "# 06 Write the difference between isalnum() and isalpha()"
   ]
  },
  {
   "cell_type": "code",
   "execution_count": 17,
   "id": "a3aefb66-bf93-4447-890d-771af371b646",
   "metadata": {},
   "outputs": [],
   "source": [
    "# isalnum() - This function checks that if all the charecters in the string are alphanumeric if yes it prints True else it prints False.\n",
    "# Note - Spaces in between alphanumeric charecters cause the output of the code to be False.\n",
    "\n",
    "# isalpha() - This function cheks that if all the charecters in the string are alphabets if yes it prints True else it prints False.\n",
    "# Note - Spaces in between alphabet charecters cause the output of the code to be False."
   ]
  },
  {
   "cell_type": "code",
   "execution_count": 18,
   "id": "c13b49ff-853a-47ea-8547-62fe396ffe0f",
   "metadata": {},
   "outputs": [],
   "source": [
    "# 07 Try to give an example of expand tab"
   ]
  },
  {
   "cell_type": "code",
   "execution_count": 19,
   "id": "a433cbfc-f525-4336-965c-2348151b3d66",
   "metadata": {},
   "outputs": [
    {
     "data": {
      "text/plain": [
       "'Hii     there   my      name    is      shweta, nice    to      meet    you     onkar!!'"
      ]
     },
     "execution_count": 19,
     "metadata": {},
     "output_type": "execute_result"
    }
   ],
   "source": [
    "# Example of expand tab function\n",
    "\n",
    "s2 = \"Hii\\tthere\\tmy\\tname\\tis\\tshweta,\\tnice\\tto\\tmeet\\tyou\\tonkar!!\"\n",
    "\n",
    "s2.expandtabs()  # By default it is 8 spaces per tab.\n"
   ]
  },
  {
   "cell_type": "code",
   "execution_count": 20,
   "id": "908461cd-c77c-49c9-838e-f2bc47867976",
   "metadata": {},
   "outputs": [
    {
     "data": {
      "text/plain": [
       "'Hii                 there               my                  name                is                  shweta,             nice                to                  meet                you                 onkar!!'"
      ]
     },
     "execution_count": 20,
     "metadata": {},
     "output_type": "execute_result"
    }
   ],
   "source": [
    "# But we can change it to our preference, for example -\n",
    "\n",
    "s2.expandtabs(20)"
   ]
  },
  {
   "cell_type": "code",
   "execution_count": 21,
   "id": "87950607-fd7d-4d6c-aafb-693d7ac54733",
   "metadata": {},
   "outputs": [],
   "source": [
    "# 08 Give an example of strip, lstrip and rstrip."
   ]
  },
  {
   "cell_type": "code",
   "execution_count": 22,
   "id": "dde58675-6411-4bb1-b136-02ceb444dedd",
   "metadata": {},
   "outputs": [
    {
     "data": {
      "text/plain": [
       "'Heyy!! Onkar'"
      ]
     },
     "execution_count": 22,
     "metadata": {},
     "output_type": "execute_result"
    }
   ],
   "source": [
    "# 1 - Example of strip:\n",
    "\n",
    "a = \"@@@2@Heyy!! Onkar@2@@@\"\n",
    "\n",
    "a.strip(\"@2\")  # Removes all @2 from both the sides\n"
   ]
  },
  {
   "cell_type": "code",
   "execution_count": 23,
   "id": "a91d2a62-62f6-4a7c-bff2-7012c6866c69",
   "metadata": {},
   "outputs": [
    {
     "data": {
      "text/plain": [
       "'Heyy!! Onkar@2@@@'"
      ]
     },
     "execution_count": 23,
     "metadata": {},
     "output_type": "execute_result"
    }
   ],
   "source": [
    "# 2 - Example of lstrip:\n",
    "\n",
    "a1 = \"@@@22@Heyy!! Onkar@2@@@\"\n",
    "\n",
    "a1.lstrip(\"@2\")  # Removes all @2 only from the left side"
   ]
  },
  {
   "cell_type": "code",
   "execution_count": 24,
   "id": "434b5260-47a7-4b17-8dce-67580cb555a5",
   "metadata": {},
   "outputs": [],
   "source": [
    "# 09 Replace a string charecter by another charecter by taking your own example \"your name\""
   ]
  },
  {
   "cell_type": "code",
   "execution_count": 25,
   "id": "770ad371-b4b8-4f9a-b0a4-c22669019ae8",
   "metadata": {},
   "outputs": [
    {
     "data": {
      "text/plain": [
       "'Onkar'"
      ]
     },
     "execution_count": 25,
     "metadata": {},
     "output_type": "execute_result"
    }
   ],
   "source": [
    "name = \"Shweta\"\n",
    "\n",
    "name.replace(\"Shweta\", \"Onkar\")\n"
   ]
  },
  {
   "cell_type": "code",
   "execution_count": 26,
   "id": "72d9113f-2414-4906-91ce-2f1f2f40b9bd",
   "metadata": {},
   "outputs": [
    {
     "data": {
      "text/plain": [
       "'Onketa'"
      ]
     },
     "execution_count": 26,
     "metadata": {},
     "output_type": "execute_result"
    }
   ],
   "source": [
    "name.replace(\"Shw\",\"Onk\")"
   ]
  },
  {
   "cell_type": "code",
   "execution_count": 27,
   "id": "5283cf5c-51a6-4db4-93ae-a2898623572b",
   "metadata": {},
   "outputs": [],
   "source": [
    "# 10 Try to give a definition of string center function with an example.\n"
   ]
  },
  {
   "cell_type": "code",
   "execution_count": 28,
   "id": "a9757b00-dfcf-40b2-a3cb-902cf1a7b07e",
   "metadata": {},
   "outputs": [],
   "source": [
    "# Definition:\n",
    "\n",
    "# center() function is used to align the string in to the centre by adding Specified characters in both the sides of the string or with space by default,\n",
    "# then the string will have specified width  and if the total width is greater than the length of the string, the extra characters will be added equally \n",
    "# to both sides (or with one extra on either sides if the width is an odd number or string has odd number of charecters).\n"
   ]
  },
  {
   "cell_type": "code",
   "execution_count": 29,
   "id": "ae1aa95f-7d60-43bd-8a26-1d76b4115727",
   "metadata": {},
   "outputs": [
    {
     "data": {
      "text/plain": [
       "'**************************************************************Shweta**************************************************************'"
      ]
     },
     "execution_count": 29,
     "metadata": {},
     "output_type": "execute_result"
    }
   ],
   "source": [
    "# Example:\n",
    "\n",
    "b = \"Shweta\"\n",
    "\n",
    "b.center(130,\"*\")"
   ]
  },
  {
   "cell_type": "code",
   "execution_count": 30,
   "id": "5394a187-6601-40f0-9a11-0a378f5f5286",
   "metadata": {},
   "outputs": [
    {
     "data": {
      "text/plain": [
       "'*********************************************************Shweta*********************************************************'"
      ]
     },
     "execution_count": 30,
     "metadata": {},
     "output_type": "execute_result"
    }
   ],
   "source": [
    "b.center(120,\"*\")"
   ]
  },
  {
   "cell_type": "code",
   "execution_count": null,
   "id": "c4adfeb1-54da-4ee0-8059-b66bf1080699",
   "metadata": {},
   "outputs": [],
   "source": []
  }
 ],
 "metadata": {
  "kernelspec": {
   "display_name": "Python 3 (ipykernel)",
   "language": "python",
   "name": "python3"
  },
  "language_info": {
   "codemirror_mode": {
    "name": "ipython",
    "version": 3
   },
   "file_extension": ".py",
   "mimetype": "text/x-python",
   "name": "python",
   "nbconvert_exporter": "python",
   "pygments_lexer": "ipython3",
   "version": "3.12.4"
  }
 },
 "nbformat": 4,
 "nbformat_minor": 5
}
